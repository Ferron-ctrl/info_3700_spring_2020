{
 "cells": [
  {
   "cell_type": "markdown",
   "metadata": {},
   "source": [
    "# Student Name\n",
    "### TODO\n",
    "Edit this cell and add your name to the top of the page."
   ]
  },
  {
   "cell_type": "code",
   "execution_count": null,
   "metadata": {},
   "outputs": [],
   "source": [
    "import spacy\n",
    "from IPython.display import Image"
   ]
  },
  {
   "cell_type": "markdown",
   "metadata": {},
   "source": [
    "# Overview\n",
    "In the last notebook, we used a statistical NLP model to extract clinical events such as problems, treatments, and tests. However, just because a report mentions a clinical concept doesn't mean that a patient actually has that concept.\n",
    "\n",
    "Another important task in clinical NLP is **contextual analysis**, which involves looking for contextual modifiers around a concept which indicate whether a concept is:\n",
    "- Negated\n",
    "- Historical\n",
    "- Uncertain\n",
    "- Experienced by someone other than the patient (such as family history)\n",
    "- Hypothetical (something that could occur in the future)\n",
    "\n",
    "## The ConText algorithm\n",
    "One method for performing this analysis is the **ConText** algorithm. This algorithm was originally proposed in this paper: [Context: An Algorithm for Determining Negation, Experiencer, and Temporal Status from Clinical Reports](https://www.ncbi.nlm.nih.gov/pmc/articles/PMC2757457/) by Harkema et al. ConText is an extension of the NegEx algorithm, which is very similar.\n",
    "\n",
    "There are several implementations of ConText and clinical NLP systems which use ConText, including:\n",
    "- [cTAKES](https://www.ncbi.nlm.nih.gov/pmc/articles/PMC2995668/)\n",
    "- [Leo](https://department-of-veterans-affairs.github.io/Leo/index.html)\n",
    "- [pyConText](https://github.com/chapmanbe/pyConTextNLP)\n",
    "\n",
    "## How ConText works\n",
    "\n",
    "ConText connects certain **modifiers**, such as **\"no evidence of\"** or no **\"is negative\"**, with the target concepts we are extracting. \n",
    "\n",
    "---\n",
    "There is **no evidence of** **_pneumonia_**\n",
    "\n",
    "---\n",
    "In this sentence, the **target** is **_pneumonia_**: this is the clinical concept we are trying to extract. The **modifier** is **no evidence of**: this shows that the concept is **negated**. \n",
    "\n",
    "ConText finds these targets and modifiers in text and builds a **directed graph** between them, where the targets and modifiers are **nodes** and the edges between them show that the modifier applies to the target. Here is a visual representation of the graph ConText would create out of this sentence:\n"
   ]
  },
  {
   "cell_type": "code",
   "execution_count": null,
   "metadata": {},
   "outputs": [],
   "source": [
    "Image(\"./images/negated_pneumonia.png\", width=600)"
   ]
  },
  {
   "cell_type": "markdown",
   "metadata": {},
   "source": [
    "Likewise, here is another example using family history:\n",
    "\n",
    "---\n",
    "There is **_diabetes_** **on her mother's side**\n",
    "\n",
    "---"
   ]
  },
  {
   "cell_type": "code",
   "execution_count": null,
   "metadata": {},
   "outputs": [],
   "source": [
    "Image(\"./images/family_history_diabetes.png\", width=600)"
   ]
  },
  {
   "cell_type": "markdown",
   "metadata": {},
   "source": [
    "In both of these examples, finding the clinical problem in the text is not enough: you also need to recognize that the concept is negated or in the patient's family, rather than the patient themself."
   ]
  },
  {
   "cell_type": "code",
   "execution_count": null,
   "metadata": {},
   "outputs": [],
   "source": []
  },
  {
   "cell_type": "markdown",
   "metadata": {},
   "source": [
    "## medSpaCy\n",
    "The implementation which we will use is from the **medSpaCy** project. **MedSpaCy** is an ongoing project from a group of NLP developers at the Department of Veterans Affairs (including myself). The goal of medSpaCy is to create a set of clinical NLP tools implemented in Python and using the spaCy framework. Each module in medSpaCy will be developed as a spaCy component and can be used in the same way as other spaCy models and components.\n",
    "\n",
    "The first package to be relased is **cycontext**, which is a spaCy implementation of the Context algorithm.\n",
    "\n",
    "https://github.com/medspacy/cycontext"
   ]
  },
  {
   "cell_type": "markdown",
   "metadata": {},
   "source": [
    "# Using cycontext\n",
    "We will use cycontext by adding it to our NLP pipeline, just like we did with the **EntityRuler**. First, let's load our model in which contains our NER trained to extracted clinical concepts:"
   ]
  },
  {
   "cell_type": "code",
   "execution_count": null,
   "metadata": {},
   "outputs": [],
   "source": [
    "nlp = spacy.load(\"en_info_3700_i2b2_2012\")"
   ]
  },
  {
   "cell_type": "code",
   "execution_count": null,
   "metadata": {},
   "outputs": [],
   "source": [
    "nlp.pipe_names"
   ]
  },
  {
   "cell_type": "markdown",
   "metadata": {},
   "source": [
    "Now, we'll import the `ConTextComponent` class from `cycontext`. By default, this component includes a set of rules which are used."
   ]
  },
  {
   "cell_type": "code",
   "execution_count": null,
   "metadata": {},
   "outputs": [],
   "source": [
    "from cycontext import ConTextComponent"
   ]
  },
  {
   "cell_type": "code",
   "execution_count": null,
   "metadata": {
    "scrolled": true
   },
   "outputs": [],
   "source": [
    "context = ConTextComponent(nlp, rules=\"default\");"
   ]
  },
  {
   "cell_type": "code",
   "execution_count": null,
   "metadata": {},
   "outputs": [],
   "source": [
    "context"
   ]
  },
  {
   "cell_type": "markdown",
   "metadata": {},
   "source": [
    "Now we'll add this to our pipeline by using the `nlp.add_pipe()` method.\n",
    "\n",
    "### TODO\n",
    "Add `context` to the NLP pipeline through the `nlp.add_pipe()` method (**hint:** we did the same thing with the EntityRuler in the last notebook)."
   ]
  },
  {
   "cell_type": "code",
   "execution_count": null,
   "metadata": {},
   "outputs": [],
   "source": [
    "nlp.____(____)"
   ]
  },
  {
   "cell_type": "markdown",
   "metadata": {},
   "source": [
    "Now, when we call `nlp(text)` on clinical text, the document will also go through the context algorithm:"
   ]
  },
  {
   "cell_type": "code",
   "execution_count": null,
   "metadata": {},
   "outputs": [],
   "source": [
    "nlp.pipe_names"
   ]
  },
  {
   "cell_type": "markdown",
   "metadata": {},
   "source": [
    "## A simple example\n",
    "Let's go back to the example we saw in our last notebook. Our NER model correctly identified **\"pneumonia\"** as a **problem**, but in this sentence it is explicitly negated:\n",
    "\n",
    "---\n",
    "There is **no evidence of** **_pneumonia_**\n",
    "\n",
    "---\n",
    "\n",
    "Using the ConText algorithm, we can now recognize that this concept is negated. Thanks to the modular nature of spaCy processing pipelines, we don't need to do anything different:"
   ]
  },
  {
   "cell_type": "code",
   "execution_count": null,
   "metadata": {},
   "outputs": [],
   "source": [
    "doc = nlp(\"There is no evidence of pneumonia.\")"
   ]
  },
  {
   "cell_type": "markdown",
   "metadata": {},
   "source": [
    "Let's visualize what the ConText algorithm is doing. cycontext offers two functions for visualizing the algorithm. The first function, `visualize_ent`, visualizes the clinical concepts and modifiers in an NER-style visualization (similar to how we looked at the extracted entities in the previous notebook):"
   ]
  },
  {
   "cell_type": "code",
   "execution_count": null,
   "metadata": {},
   "outputs": [],
   "source": [
    "from cycontext.viz import visualize_dep, visualize_ent"
   ]
  },
  {
   "cell_type": "code",
   "execution_count": null,
   "metadata": {},
   "outputs": [],
   "source": [
    "visualize_ent(doc)"
   ]
  },
  {
   "cell_type": "markdown",
   "metadata": {},
   "source": [
    "The second, `visualize_dep` one visualizes the relationships between targets and modifiers in a dependency-style visualization. Here, we can see that the modifier **\"no evidence of\"** is applied to the target **\"pneumonia\"**."
   ]
  },
  {
   "cell_type": "code",
   "execution_count": null,
   "metadata": {
    "scrolled": true
   },
   "outputs": [],
   "source": [
    "visualize_dep(doc)"
   ]
  },
  {
   "cell_type": "markdown",
   "metadata": {},
   "source": [
    "When an entity is negated by cycontext, the negation is stored in the `ent._.is_negated` attribute. If `True`, then the concept is negated. By default, it will be `False`."
   ]
  },
  {
   "cell_type": "code",
   "execution_count": null,
   "metadata": {},
   "outputs": [],
   "source": [
    "for ent in doc.ents:\n",
    "    print(ent, ent._.is_negated)"
   ]
  },
  {
   "cell_type": "markdown",
   "metadata": {},
   "source": [
    "## A slightly more complex example\n",
    "In the sentence below, there are three problems in the sentence. The first two, **\"pneumonia\"** and **\"pleural opacities\"** is negated, but the third, **\"PE\"**, is not. Let's see if cycontext can tell the difference:"
   ]
  },
  {
   "cell_type": "code",
   "execution_count": null,
   "metadata": {},
   "outputs": [],
   "source": [
    "doc = nlp(\"No evidence of pneumonia or pleural opacities but he has PE.\")"
   ]
  },
  {
   "cell_type": "code",
   "execution_count": null,
   "metadata": {},
   "outputs": [],
   "source": [
    "visualize_ent(doc)"
   ]
  },
  {
   "cell_type": "code",
   "execution_count": null,
   "metadata": {},
   "outputs": [],
   "source": [
    "visualize_dep(doc)"
   ]
  },
  {
   "cell_type": "code",
   "execution_count": null,
   "metadata": {},
   "outputs": [],
   "source": [
    "for ent in doc.ents:\n",
    "    print(ent, \"Negated:\", ent._.is_negated)"
   ]
  },
  {
   "cell_type": "markdown",
   "metadata": {},
   "source": [
    "Cycontext applies negation to **\"pneumonia\"** and **\"pleural opacities\"**, but stops and doesn't apply to **\"PE\"**.\n",
    "\n",
    "### Discussion\n",
    "How do you think cycontext does this?\n"
   ]
  },
  {
   "cell_type": "markdown",
   "metadata": {},
   "source": [
    "## Other attributes\n",
    "By default, cycontext will extract the following attributes, which are all False unless the entity is modified by a certain type of modifier:\n",
    "- `ent._.is_negated`\n",
    "- `ent._.is_historical`\n",
    "- `ent._.is_uncertain`\n",
    "- `ent._.is_family`\n",
    "- `ent._.is_hypothetical`\n",
    "\n",
    "Let's see some more examples:"
   ]
  },
  {
   "cell_type": "markdown",
   "metadata": {},
   "source": [
    "### Historical"
   ]
  },
  {
   "cell_type": "code",
   "execution_count": null,
   "metadata": {},
   "outputs": [],
   "source": [
    "doc = nlp(\"Past medical history significant for nephrectomy.\")"
   ]
  },
  {
   "cell_type": "code",
   "execution_count": null,
   "metadata": {},
   "outputs": [],
   "source": [
    "visualize_ent(doc)"
   ]
  },
  {
   "cell_type": "code",
   "execution_count": null,
   "metadata": {},
   "outputs": [],
   "source": [
    "visualize_dep(doc)"
   ]
  },
  {
   "cell_type": "code",
   "execution_count": null,
   "metadata": {},
   "outputs": [],
   "source": [
    "for ent in doc.ents:\n",
    "    print(ent, \"Historical:\", ent._.is_historical)"
   ]
  },
  {
   "cell_type": "code",
   "execution_count": null,
   "metadata": {},
   "outputs": [],
   "source": []
  },
  {
   "cell_type": "markdown",
   "metadata": {},
   "source": [
    "### Uncertainty"
   ]
  },
  {
   "cell_type": "code",
   "execution_count": null,
   "metadata": {},
   "outputs": [],
   "source": [
    "doc = nlp(\"The scan likely shows a pneumothorax.\")"
   ]
  },
  {
   "cell_type": "code",
   "execution_count": null,
   "metadata": {},
   "outputs": [],
   "source": [
    "visualize_ent(doc)"
   ]
  },
  {
   "cell_type": "code",
   "execution_count": null,
   "metadata": {},
   "outputs": [],
   "source": [
    "visualize_dep(doc)"
   ]
  },
  {
   "cell_type": "code",
   "execution_count": null,
   "metadata": {},
   "outputs": [],
   "source": [
    "for ent in doc.ents:\n",
    "    print(ent, \"Uncertain:\", ent._.is_uncertain)"
   ]
  },
  {
   "cell_type": "code",
   "execution_count": null,
   "metadata": {},
   "outputs": [],
   "source": []
  },
  {
   "cell_type": "markdown",
   "metadata": {},
   "source": [
    "### Family history"
   ]
  },
  {
   "cell_type": "code",
   "execution_count": null,
   "metadata": {},
   "outputs": [],
   "source": [
    "doc = nlp(\"Her mother had breast cancer.\")"
   ]
  },
  {
   "cell_type": "code",
   "execution_count": null,
   "metadata": {},
   "outputs": [],
   "source": [
    "visualize_ent(doc)"
   ]
  },
  {
   "cell_type": "code",
   "execution_count": null,
   "metadata": {},
   "outputs": [],
   "source": [
    "visualize_dep(doc)"
   ]
  },
  {
   "cell_type": "code",
   "execution_count": null,
   "metadata": {},
   "outputs": [],
   "source": [
    "for ent in doc.ents:\n",
    "    print(ent, \"Family:\", ent._.is_family)"
   ]
  },
  {
   "cell_type": "code",
   "execution_count": null,
   "metadata": {},
   "outputs": [],
   "source": []
  },
  {
   "cell_type": "markdown",
   "metadata": {},
   "source": [
    "### Hypothetical"
   ]
  },
  {
   "cell_type": "code",
   "execution_count": null,
   "metadata": {},
   "outputs": [],
   "source": [
    "doc = nlp(\"She should stop taking warfarin if she develops a rash.\")"
   ]
  },
  {
   "cell_type": "code",
   "execution_count": null,
   "metadata": {},
   "outputs": [],
   "source": [
    "visualize_ent(doc)"
   ]
  },
  {
   "cell_type": "code",
   "execution_count": null,
   "metadata": {},
   "outputs": [],
   "source": [
    "visualize_dep(doc)"
   ]
  },
  {
   "cell_type": "code",
   "execution_count": null,
   "metadata": {},
   "outputs": [],
   "source": [
    "for ent in doc.ents:\n",
    "    print(ent, \"Hypothetical:\", ent._.is_hypothetical)"
   ]
  },
  {
   "cell_type": "code",
   "execution_count": null,
   "metadata": {},
   "outputs": [],
   "source": []
  },
  {
   "cell_type": "markdown",
   "metadata": {},
   "source": [
    "# Creating your own modifiers\n",
    "We've been using the default knowledge base that comes with cycontext. However, you may want to modify or cycontext's behavior, including adding brand new concepts.\n",
    "\n",
    "Let's replace our **context** component with a blank instance, then add our own rules."
   ]
  },
  {
   "cell_type": "code",
   "execution_count": null,
   "metadata": {},
   "outputs": [],
   "source": [
    "blank_context = ConTextComponent(nlp, rules=None);"
   ]
  },
  {
   "cell_type": "code",
   "execution_count": null,
   "metadata": {},
   "outputs": [],
   "source": [
    "# Now replace our old context component with this\n",
    "if \"context\" in nlp.pipe_names:\n",
    "    nlp.remove_pipe(\"context\")\n",
    "nlp.add_pipe(blank_context)"
   ]
  },
  {
   "cell_type": "markdown",
   "metadata": {},
   "source": [
    "Let's go back to our first example."
   ]
  },
  {
   "cell_type": "code",
   "execution_count": null,
   "metadata": {},
   "outputs": [],
   "source": [
    "text = \"There is no evidence of pneumonia.\""
   ]
  },
  {
   "cell_type": "markdown",
   "metadata": {},
   "source": [
    "## ConTextItem\n",
    "The modifier rules in cycontext are controlled by `ConTextItem`. A ConTextItem defines what span of text to match as a modifier, how that modifier behaves, and the semantic category of the modifier. It takes these main arguments:\n",
    "- **`literal`**: The exact text to match\n",
    "- **`category`**: The semantic category of the modifier, such as **\"NEGATED_EXISTENCE\"** or **\"HISTORICAL\"**\n",
    "- **`rule`**: Which **direction** the modifier should look in the sentence. Look back at the two images at the top of the notebook. In the first example, \"There is **no evidence** of **_pneumonia_**\", the modifier is **\"no evidence\"** and it comes before the target concept. In that case, we say it moves **\"forward\"** in the sentence (to the right). In the other example, \"There is **_diabetes_** **on her mother's side**\", the modifier comes after the target and we say it moves **backward** in the sentence. This argument in cycontext can take the following values:\n",
    "    - **\"BIDIRECTIONAL\"** - This is the default and the modifier will apply to targets on both sides of the modifier\n",
    "    - **\"FORWARD\"** - The modifier will modify any targets *after* the modifier\n",
    "    - **\"BACKWARD\"** - The modifier will modify any targets *before* the modifier\n",
    "    - **TERMINATE\"** - Any modifiers will stop at this point, such as **\"but\"** in \"No evidence of pneumonia or pleural opacities **but** he has PE.\"\n",
    "- **`pattern`**: An optional spaCy pattern to match, like we saw in the pattern-matching notebooks\n",
    "\n",
    "Let's import the `ConTextItem` from cycontext. We can also view the docstring ."
   ]
  },
  {
   "cell_type": "code",
   "execution_count": null,
   "metadata": {},
   "outputs": [],
   "source": [
    "from cycontext import ConTextItem"
   ]
  },
  {
   "cell_type": "markdown",
   "metadata": {},
   "source": [
    "## Example 1: Negation\n",
    "Let's create a `ConTextItem` to negate **\"pneumonia\"** in our first example: \"There is **no evidence** of **_pneumonia_**\".\n",
    "\n",
    "### TODO\n",
    "Create a `ConTextItem` with the following arguments:\n",
    "- **\"no evidence of\"**: This will match the phrase in the text\n",
    "- **\"NEGATED_EXISTENCE\"**: This is the semantic category\n",
    "- **\"FORWARD\"**: The target concept comes *after* the modifier in the sentence"
   ]
  },
  {
   "cell_type": "code",
   "execution_count": null,
   "metadata": {},
   "outputs": [],
   "source": [
    "item = ConTextItem(____, category=____, rule=____)"
   ]
  },
  {
   "cell_type": "markdown",
   "metadata": {},
   "source": [
    "We then add a list of ConTextItems to our context object:"
   ]
  },
  {
   "cell_type": "code",
   "execution_count": null,
   "metadata": {},
   "outputs": [],
   "source": [
    "blank_context.add([item])"
   ]
  },
  {
   "cell_type": "code",
   "execution_count": null,
   "metadata": {},
   "outputs": [],
   "source": [
    "blank_context.item_data"
   ]
  },
  {
   "cell_type": "markdown",
   "metadata": {},
   "source": [
    "Now when we call `nlp` on our text, we can see that **\"pneumonia\"** is negated by the modifier."
   ]
  },
  {
   "cell_type": "code",
   "execution_count": null,
   "metadata": {},
   "outputs": [],
   "source": [
    "doc = nlp(\"There is no evidence of pneumonia.\")"
   ]
  },
  {
   "cell_type": "code",
   "execution_count": null,
   "metadata": {},
   "outputs": [],
   "source": [
    "visualize_ent(doc)"
   ]
  },
  {
   "cell_type": "code",
   "execution_count": null,
   "metadata": {},
   "outputs": [],
   "source": [
    "visualize_dep(doc)"
   ]
  },
  {
   "cell_type": "code",
   "execution_count": null,
   "metadata": {},
   "outputs": [],
   "source": []
  },
  {
   "cell_type": "markdown",
   "metadata": {},
   "source": [
    "## Example 2: Family History\n",
    "\n",
    "Now let's identify the **family** modifier in \"There is diabetes on her mother's side.\"\n",
    "\n",
    "### TODO\n",
    "Create a ConTextItem which will match **\"mother's side\"** and modify **\"diabetes\"**. It should have the category **\"FAMILY\"** and the rule should be **\"BACKWARD\"**."
   ]
  },
  {
   "cell_type": "code",
   "execution_count": null,
   "metadata": {},
   "outputs": [],
   "source": [
    "doc = nlp(\"There is diabetes on her mother's side.\")\n",
    "doc.ents"
   ]
  },
  {
   "cell_type": "code",
   "execution_count": null,
   "metadata": {},
   "outputs": [],
   "source": [
    "item = ConTextItem(____, category=____, rule=____)"
   ]
  },
  {
   "cell_type": "code",
   "execution_count": null,
   "metadata": {},
   "outputs": [],
   "source": [
    "blank_context.add([item])"
   ]
  },
  {
   "cell_type": "code",
   "execution_count": null,
   "metadata": {},
   "outputs": [],
   "source": [
    "doc = nlp(\"There is diabetes on her mother's side.\")\n",
    "visualize_ent(doc)"
   ]
  },
  {
   "cell_type": "code",
   "execution_count": null,
   "metadata": {},
   "outputs": [],
   "source": [
    "visualize_dep(doc)"
   ]
  },
  {
   "cell_type": "markdown",
   "metadata": {},
   "source": [
    "## Example 3: Uncertainty\n",
    "In the phrase below, the physician is considering both **\"pneumonia\"** and **\"bronchitis\"** as a diagnosis. In this case, the modifier should go in both directions, not just **\"forward\"** or **\"backward\"**.\n",
    "\n",
    "### TODO\n",
    "Create a ConTextItem which matches both targets. The category should be **\"POSSIBLE_EXISTENCE\"** and the rule should be **\"BIDIRECTIONAL\"**."
   ]
  },
  {
   "cell_type": "code",
   "execution_count": null,
   "metadata": {},
   "outputs": [],
   "source": [
    "doc = nlp(\"Pneumonia vs bronchitis\")\n",
    "doc.ents"
   ]
  },
  {
   "cell_type": "code",
   "execution_count": null,
   "metadata": {},
   "outputs": [],
   "source": [
    "item = ConTextItem(____, category=____, rule=____)"
   ]
  },
  {
   "cell_type": "code",
   "execution_count": null,
   "metadata": {},
   "outputs": [],
   "source": [
    "blank_context.add([item])"
   ]
  },
  {
   "cell_type": "code",
   "execution_count": null,
   "metadata": {},
   "outputs": [],
   "source": [
    "doc = nlp(\"Pneumonia vs bronchitis\")\n",
    "visualize_ent(doc)"
   ]
  },
  {
   "cell_type": "code",
   "execution_count": null,
   "metadata": {},
   "outputs": [],
   "source": [
    "visualize_dep(doc)"
   ]
  },
  {
   "cell_type": "code",
   "execution_count": null,
   "metadata": {},
   "outputs": [],
   "source": []
  },
  {
   "cell_type": "markdown",
   "metadata": {},
   "source": [
    "# Additional examples\n",
    "Below are a number of additional texts. Each sentence has a clinical problem which is being modified by a semantic modifer. Go through each of them and process with the NLP. Identify which modifiers should be matched in the sentence and create ConTextItems to connect the modifiers with the targets.\n",
    "\n",
    "The **category** arguments in the ConTextItems can be:\n",
    "- \"NEGATED_EXISTENCE\"\n",
    "- \"POSSIBLE_EXISTENCE\"\n",
    "- \"HISTORICAL\"\n",
    "- \"HYPOTHETICAL\"\n",
    "- \"FAMILY\"\n",
    "\n",
    "And the **rule** arguments can be:\n",
    "- \"BIDIRECTIONAL\"\n",
    "- \"FORWARD\"\n",
    "- \"BACKWARD\"\n",
    "- \"TERMINATE\""
   ]
  },
  {
   "cell_type": "code",
   "execution_count": null,
   "metadata": {},
   "outputs": [],
   "source": [
    "item_data = [\n",
    "    ConTextItem(____, category=____, ____),\n",
    "    # etc...\n",
    "]"
   ]
  },
  {
   "cell_type": "code",
   "execution_count": null,
   "metadata": {},
   "outputs": [],
   "source": [
    "blank_context.add(item_data)"
   ]
  },
  {
   "cell_type": "code",
   "execution_count": null,
   "metadata": {},
   "outputs": [],
   "source": [
    "texts = [\n",
    "    \"His wife recently died from end stage renal disease.\",\n",
    "    \"Whether this is pneumonia is unknown.\",\n",
    "    \"Pneumonia vs. bronchitis\",\n",
    "    \"Past medical history significant for afib, CHF, and CKD.\",\n",
    "    \"Pt's grandfather had prostate cancer.\",\n",
    "    \"Stop taking medications if any side effects occur.\",\n",
    "    \"The respiratory panel returned negative for influenza.\",\n",
    "    \n",
    "]"
   ]
  },
  {
   "cell_type": "code",
   "execution_count": null,
   "metadata": {},
   "outputs": [],
   "source": [
    "text = texts[0] # Change this number to go through each of the texts"
   ]
  },
  {
   "cell_type": "code",
   "execution_count": null,
   "metadata": {},
   "outputs": [],
   "source": [
    "doc = nlp(text)"
   ]
  },
  {
   "cell_type": "code",
   "execution_count": null,
   "metadata": {},
   "outputs": [],
   "source": [
    "visualize_ent(doc)"
   ]
  },
  {
   "cell_type": "code",
   "execution_count": null,
   "metadata": {},
   "outputs": [],
   "source": [
    "visualize_dep(doc)"
   ]
  },
  {
   "cell_type": "code",
   "execution_count": null,
   "metadata": {},
   "outputs": [],
   "source": []
  },
  {
   "cell_type": "markdown",
   "metadata": {},
   "source": [
    "# Next Steps\n",
    "We now have a fairly comprehensive set of tools for processing clinical text:\n",
    "1. A pre-trained statistical model which can detect clinical problems, treatments, and tests\n",
    "2. A rule-based matcher which can extract additional entities which are not extracted by our NER\n",
    "3. ConText to detect attributes such as negation, temporality, and uncertainty\n",
    "\n",
    "In our next notebook, we'll put all of this together to analyze an **annotated dataset** and evaluate how well our system works on MIMIC data.\n",
    "\n",
    "\n",
    "[05-clinical_information_extraction.ipynb](05-clinical_information_extraction.ipynb)\n",
    "\n",
    "## Week 12 Attendance\n",
    "Save this notebook as an HTML and submit it on Canvas for credit for Week 11."
   ]
  },
  {
   "cell_type": "code",
   "execution_count": null,
   "metadata": {},
   "outputs": [],
   "source": []
  }
 ],
 "metadata": {
  "kernelspec": {
   "display_name": "Python 3",
   "language": "python",
   "name": "python3"
  },
  "language_info": {
   "codemirror_mode": {
    "name": "ipython",
    "version": 3
   },
   "file_extension": ".py",
   "mimetype": "text/x-python",
   "name": "python",
   "nbconvert_exporter": "python",
   "pygments_lexer": "ipython3",
   "version": "3.7.3"
  }
 },
 "nbformat": 4,
 "nbformat_minor": 2
}
