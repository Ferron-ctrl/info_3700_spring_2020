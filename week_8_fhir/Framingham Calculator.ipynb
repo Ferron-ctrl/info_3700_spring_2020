{
 "cells": [
  {
   "cell_type": "markdown",
   "metadata": {},
   "source": [
    "# Use Case\n",
    "\n",
    "As a physician, I want to calculate a patient's cardiovascular risk using the Framingham calculator - http://reference.medscape.com/calculator/framingham-coronary-risk-ldl\n",
    "\n",
    "Several peices of data are needed to perform this calculation. We will use FHIR to pull the data we need from the patient's health record."
   ]
  },
  {
   "cell_type": "code",
   "execution_count": 1,
   "metadata": {},
   "outputs": [
    {
     "name": "stdout",
     "output_type": "stream",
     "text": [
      "Requirement already satisfied: requests in /Library/Frameworks/Python.framework/Versions/3.7/lib/python3.7/site-packages (2.22.0)\n",
      "Requirement already satisfied: urllib3!=1.25.0,!=1.25.1,<1.26,>=1.21.1 in /Library/Frameworks/Python.framework/Versions/3.7/lib/python3.7/site-packages (from requests) (1.25.3)\n",
      "Requirement already satisfied: chardet<3.1.0,>=3.0.2 in /Library/Frameworks/Python.framework/Versions/3.7/lib/python3.7/site-packages (from requests) (3.0.4)\n",
      "Requirement already satisfied: idna<2.9,>=2.5 in /Library/Frameworks/Python.framework/Versions/3.7/lib/python3.7/site-packages (from requests) (2.8)\n",
      "Requirement already satisfied: certifi>=2017.4.17 in /Library/Frameworks/Python.framework/Versions/3.7/lib/python3.7/site-packages (from requests) (2019.6.16)\n",
      "\u001b[33mYou are using pip version 18.1, however version 20.0.2 is available.\n",
      "You should consider upgrading via the 'pip install --upgrade pip' command.\u001b[0m\n"
     ]
    }
   ],
   "source": [
    "!pip3 install requests"
   ]
  },
  {
   "cell_type": "markdown",
   "metadata": {},
   "source": [
    "#### First, let's import and define some variables"
   ]
  },
  {
   "cell_type": "code",
   "execution_count": null,
   "metadata": {},
   "outputs": [],
   "source": [
    "import datetime\n",
    "from datetime import timedelta\n",
    "from datetime import date\n",
    "from dateutil.relativedelta import relativedelta\n",
    "import requests\n",
    "import json\n",
    "\n",
    "# Define the FHIR Endpoint\n",
    "fhir_url = \"https://api.logicahealth.org/test231/open/\""
   ]
  },
  {
   "cell_type": "markdown",
   "metadata": {},
   "source": [
    "#### Next, let's get demographical information about the patient"
   ]
  },
  {
   "cell_type": "code",
   "execution_count": 8,
   "metadata": {},
   "outputs": [
    {
     "name": "stdout",
     "output_type": "stream",
     "text": [
      "Patient's Name =  Frank Taylor\n",
      "DOB =  1953-09-05\n",
      "Gender =  male\n",
      "Patient's age =  66\n"
     ]
    }
   ],
   "source": [
    "# Perform a GET on patient with id of 'SMART-1627321'\n",
    "\n",
    "# Print the first and last name of the patient\n",
    "\n",
    "# Print the patient's date of birth\n",
    "\n",
    "# Print patient's gender\n",
    "gender = None\n",
    "# Calcuate patient's age using rdelta method of the dateutil module\n",
    "\n",
    "# print the years from the rdelta object\n",
    "age = None"
   ]
  },
  {
   "cell_type": "markdown",
   "metadata": {},
   "source": [
    "#### Next is to get the LDL and HDL values\n",
    "LOINC codes:  \n",
    "&nbsp;&nbsp;&nbsp;LDL: 18262-6  \n",
    "&nbsp;&nbsp;&nbsp;HDL: 2085-9"
   ]
  },
  {
   "cell_type": "code",
   "execution_count": 20,
   "metadata": {},
   "outputs": [
    {
     "name": "stdout",
     "output_type": "stream",
     "text": [
      "86.0 mg/dL\n",
      "36.0 mg/dL\n"
     ]
    }
   ],
   "source": [
    "#LDL\n",
    "LDL_val = None\n",
    "\n",
    "# HDL \n",
    "HDL_val = None"
   ]
  },
  {
   "cell_type": "markdown",
   "metadata": {},
   "source": [
    "#### Now we want the systolic and diastolic heart pressures\n",
    "LOINC code: 55284-4"
   ]
  },
  {
   "cell_type": "code",
   "execution_count": 12,
   "metadata": {},
   "outputs": [
    {
     "name": "stdout",
     "output_type": "stream",
     "text": [
      "Systolic: 107 mmHg\n",
      "Diastolic: 60 mmHg\n"
     ]
    }
   ],
   "source": [
    "sys = None\n",
    "dia = None\n"
   ]
  },
  {
   "cell_type": "markdown",
   "metadata": {},
   "source": [
    "#### Does the patient have diabetes?\n",
    "Of course, there are many types of diabetes. Normally, you would call a \"ValueSet\" resource to get all possible diabetes codes, but to keep things simple, we'll just use the code for Type 2 diabetes.  \n",
    "\n",
    "SNOMED: 44054006"
   ]
  },
  {
   "cell_type": "code",
   "execution_count": 13,
   "metadata": {},
   "outputs": [
    {
     "name": "stdout",
     "output_type": "stream",
     "text": [
      "They have diabetes\n"
     ]
    }
   ],
   "source": [
    "diabetes = False\n"
   ]
  },
  {
   "cell_type": "markdown",
   "metadata": {},
   "source": [
    "#### Does the patient smoke?\n",
    "Again, there are many codes for smoking. First, use the code for \"Tobacco smoking status\" to get all Observation resources that define the patient's smoking status. Then filter by SNOMED code for \"Occasional tobacco smoker\".\n",
    "\n",
    "LOINC \"Tobacco smoking status\": 72166-2  \n",
    "SNOMED \"Occasional tobacco smoker\": 428041000124106"
   ]
  },
  {
   "cell_type": "code",
   "execution_count": 16,
   "metadata": {},
   "outputs": [
    {
     "name": "stdout",
     "output_type": "stream",
     "text": [
      "They smoke\n"
     ]
    }
   ],
   "source": [
    "smoking = False\n"
   ]
  },
  {
   "cell_type": "markdown",
   "metadata": {},
   "source": [
    "### Coronary Risk Calculator"
   ]
  },
  {
   "cell_type": "code",
   "execution_count": 17,
   "metadata": {},
   "outputs": [],
   "source": [
    "points = 0\n",
    "\n",
    "if gender == \"male\":\n",
    "    if age <= 34:\n",
    "        points += -1\n",
    "    if age >= 40 and age <= 44:\n",
    "        points += 1\n",
    "    if age >= 45 and age <= 49:\n",
    "        points += 2\n",
    "    if age >= 50 and age <= 54:\n",
    "        points += 3\n",
    "    if age >= 55 and age <= 59:\n",
    "        points += 4\n",
    "    if age >= 60 and age <= 64:\n",
    "        points += 5\n",
    "    if age >= 65 and age <= 69:\n",
    "        points += 6\n",
    "    if age >= 70:\n",
    "        points += 7\n",
    "    if LDL_val < 100:\n",
    "        points += -3\n",
    "    if LDL_val >= 160 and LDL_val <= 189:\n",
    "        points += 1\n",
    "    if LDL_val >= 190:\n",
    "        points += 2\n",
    "    if HDL_val < 35:\n",
    "        points += 2\n",
    "    if HDL_val >= 35 and LDL_val <= 44:\n",
    "        points += 1\n",
    "    if HDL_val >= 60:\n",
    "        points += -1\n",
    "    if sys <=129 and dia >= 85 and dia <= 89:\n",
    "        points += 1\n",
    "    if sys >= 130 and sys <=139 and dia < 90:\n",
    "        points += 1\n",
    "    if sys <= 139 and dia >= 90 and dia <= 99:\n",
    "        points += 2\n",
    "    if sys >= 140 and sys <=159 and dia < 100:\n",
    "        points += 2\n",
    "    if sys > 159 or dia > 99:\n",
    "        points += 3\n",
    "    if diabetes == True:\n",
    "        points += 2\n",
    "    if smoking == True:\n",
    "        points += 2"
   ]
  },
  {
   "cell_type": "code",
   "execution_count": 18,
   "metadata": {},
   "outputs": [],
   "source": [
    "\n",
    "if gender == \"female\":\n",
    "    if age <= 34:\n",
    "        points += -9\n",
    "    if age >= 35 and age <= 39:\n",
    "        points += -4\n",
    "    if age >= 45 and age <= 49:\n",
    "        points += 3\n",
    "    if age >= 50 and age <= 54:\n",
    "        points += 6\n",
    "    if age >= 55 and age <= 59:\n",
    "        points += 7\n",
    "    if age >= 60:\n",
    "        points += 8\n",
    "    if LDL_val < 100:\n",
    "        points += -2\n",
    "    if LDL_val >= 160:\n",
    "        points += 2\n",
    "    if HDL_val < 35:\n",
    "        points += 5\n",
    "    if HDL_val >= 35 and HDL_val <= 44:\n",
    "        points += 2\n",
    "    if HDL_val >= 45 and HDL_val <= 49:\n",
    "        points += 1\n",
    "    if HDL_val >= 60:\n",
    "        points += -2\n",
    "    if sys < 120 and dia < 80:\n",
    "        points += -3\n",
    "    if sys <=159 and dia >=90 and dia < 100:\n",
    "        points += 2\n",
    "    if sys > 159 or dia > 99:\n",
    "        points += 3\n",
    "    if diabetes == True:\n",
    "        points += 4\n",
    "    if smoking == True:\n",
    "        points += 2"
   ]
  },
  {
   "cell_type": "code",
   "execution_count": 19,
   "metadata": {},
   "outputs": [
    {
     "name": "stdout",
     "output_type": "stream",
     "text": [
      "Total number of points: 7\n",
      "Risk of Heart Disease: 14%\n"
     ]
    }
   ],
   "source": [
    "male_results = {0:3,1:4,2:4,3:6,4:7,5:9,6:11,7:14,8:18,9:22,10:27,11:33,12:40,13:47}\n",
    "female_results = {0:2,1:2,2:3,3:3,4:4,5:5,6:6,7:7,8:8,9:9,10:11,11:13,12:15,13:17,14:20,15:24,16:27}\n",
    "\n",
    "if points >=14 and gender == \"male\":\n",
    "    risk = \">= 56%\"\n",
    "elif points >=17 and gender == \"female\":\n",
    "    risk = \">= 32%\"\n",
    "elif gender == \"male\":\n",
    "    percent = male_results[points]\n",
    "    risk = str(percent)+\"%\"\n",
    "else:\n",
    "    percent = female_results[points]\n",
    "    risk = str(percent)+\"%\"\n",
    "print(\"Total number of points: \" + str(points))\n",
    "print(\"Risk of Heart Disease: \" + risk)"
   ]
  },
  {
   "cell_type": "code",
   "execution_count": null,
   "metadata": {
    "collapsed": true
   },
   "outputs": [],
   "source": []
  }
 ],
 "metadata": {
  "anaconda-cloud": {},
  "kernelspec": {
   "display_name": "Python 3",
   "language": "python",
   "name": "python3"
  },
  "language_info": {
   "codemirror_mode": {
    "name": "ipython",
    "version": 3
   },
   "file_extension": ".py",
   "mimetype": "text/x-python",
   "name": "python",
   "nbconvert_exporter": "python",
   "pygments_lexer": "ipython3",
   "version": "3.7.2"
  }
 },
 "nbformat": 4,
 "nbformat_minor": 1
}
